{
  "nbformat": 4,
  "nbformat_minor": 0,
  "metadata": {
    "accelerator": "GPU",
    "colab": {
      "name": "lovecraft gpt2.ipynb",
      "provenance": [],
      "collapsed_sections": [],
      "machine_shape": "hm"
    },
    "kernelspec": {
      "display_name": "Python 3",
      "name": "python3"
    },
    "language_info": {
      "name": "python"
    }
  },
  "cells": [
    {
      "cell_type": "markdown",
      "metadata": {
        "id": "T-8b_qNAIJur"
      },
      "source": [
        "# H.P. Lovecraft Language Generation using GPT-2\n",
        "## Dr. Tristan Behrens (https://www.linkedin.com/in/dr-tristan-behrens-734967a2/)\n",
        "\n",
        "Trains a Neural Network on the collected works by H.P. Lovecraft."
      ]
    },
    {
      "cell_type": "markdown",
      "metadata": {
        "id": "AclgU1pG3hRJ"
      },
      "source": [
        "# TODOs.\n",
        "\n",
        "- [ ] Do I need sequenze length in tokenizers?\n",
        "- [ ] Is the model big enough?\n",
        "- [ ] Is the implementation sound?"
      ]
    },
    {
      "cell_type": "markdown",
      "metadata": {
        "id": "vTjhK1GISpNP"
      },
      "source": [
        "- https://towardsdatascience.com/train-gpt-2-in-your-own-language-fc6ad4d60171\n",
        "- https://discuss.huggingface.co/t/gpt2-training-from-scratch-in-german/1157"
      ]
    },
    {
      "cell_type": "code",
      "metadata": {
        "id": "eff6x6jaPkN7",
        "outputId": "99e22280-8682-4424-e278-fe24129466c4",
        "colab": {
          "base_uri": "https://localhost:8080/"
        }
      },
      "source": [
        "!pip install --upgrade transformers datasets"
      ],
      "execution_count": 1,
      "outputs": [
        {
          "output_type": "stream",
          "text": [
            "Collecting transformers\n",
            "  Downloading transformers-4.9.2-py3-none-any.whl (2.6 MB)\n",
            "\u001b[K     |████████████████████████████████| 2.6 MB 8.4 MB/s \n",
            "\u001b[?25hCollecting datasets\n",
            "  Downloading datasets-1.11.0-py3-none-any.whl (264 kB)\n",
            "\u001b[K     |████████████████████████████████| 264 kB 75.6 MB/s \n",
            "\u001b[?25hRequirement already satisfied: filelock in /usr/local/lib/python3.7/dist-packages (from transformers) (3.0.12)\n",
            "Collecting sacremoses\n",
            "  Downloading sacremoses-0.0.45-py3-none-any.whl (895 kB)\n",
            "\u001b[K     |████████████████████████████████| 895 kB 58.1 MB/s \n",
            "\u001b[?25hRequirement already satisfied: requests in /usr/local/lib/python3.7/dist-packages (from transformers) (2.23.0)\n",
            "Requirement already satisfied: tqdm>=4.27 in /usr/local/lib/python3.7/dist-packages (from transformers) (4.62.0)\n",
            "Requirement already satisfied: regex!=2019.12.17 in /usr/local/lib/python3.7/dist-packages (from transformers) (2019.12.20)\n",
            "Requirement already satisfied: packaging in /usr/local/lib/python3.7/dist-packages (from transformers) (21.0)\n",
            "Collecting tokenizers<0.11,>=0.10.1\n",
            "  Downloading tokenizers-0.10.3-cp37-cp37m-manylinux_2_5_x86_64.manylinux1_x86_64.manylinux_2_12_x86_64.manylinux2010_x86_64.whl (3.3 MB)\n",
            "\u001b[K     |████████████████████████████████| 3.3 MB 52.6 MB/s \n",
            "\u001b[?25hRequirement already satisfied: numpy>=1.17 in /usr/local/lib/python3.7/dist-packages (from transformers) (1.19.5)\n",
            "Collecting huggingface-hub==0.0.12\n",
            "  Downloading huggingface_hub-0.0.12-py3-none-any.whl (37 kB)\n",
            "Requirement already satisfied: importlib-metadata in /usr/local/lib/python3.7/dist-packages (from transformers) (4.6.4)\n",
            "Collecting pyyaml>=5.1\n",
            "  Downloading PyYAML-5.4.1-cp37-cp37m-manylinux1_x86_64.whl (636 kB)\n",
            "\u001b[K     |████████████████████████████████| 636 kB 63.6 MB/s \n",
            "\u001b[?25hRequirement already satisfied: typing-extensions in /usr/local/lib/python3.7/dist-packages (from huggingface-hub==0.0.12->transformers) (3.7.4.3)\n",
            "Requirement already satisfied: pyparsing>=2.0.2 in /usr/local/lib/python3.7/dist-packages (from packaging->transformers) (2.4.7)\n",
            "Requirement already satisfied: pandas in /usr/local/lib/python3.7/dist-packages (from datasets) (1.1.5)\n",
            "Requirement already satisfied: multiprocess in /usr/local/lib/python3.7/dist-packages (from datasets) (0.70.12.2)\n",
            "Requirement already satisfied: dill in /usr/local/lib/python3.7/dist-packages (from datasets) (0.3.4)\n",
            "Requirement already satisfied: pyarrow!=4.0.0,>=1.0.0 in /usr/local/lib/python3.7/dist-packages (from datasets) (3.0.0)\n",
            "Collecting xxhash\n",
            "  Downloading xxhash-2.0.2-cp37-cp37m-manylinux2010_x86_64.whl (243 kB)\n",
            "\u001b[K     |████████████████████████████████| 243 kB 72.2 MB/s \n",
            "\u001b[?25hCollecting fsspec>=2021.05.0\n",
            "  Downloading fsspec-2021.7.0-py3-none-any.whl (118 kB)\n",
            "\u001b[K     |████████████████████████████████| 118 kB 72.5 MB/s \n",
            "\u001b[?25hRequirement already satisfied: certifi>=2017.4.17 in /usr/local/lib/python3.7/dist-packages (from requests->transformers) (2021.5.30)\n",
            "Requirement already satisfied: idna<3,>=2.5 in /usr/local/lib/python3.7/dist-packages (from requests->transformers) (2.10)\n",
            "Requirement already satisfied: urllib3!=1.25.0,!=1.25.1,<1.26,>=1.21.1 in /usr/local/lib/python3.7/dist-packages (from requests->transformers) (1.24.3)\n",
            "Requirement already satisfied: chardet<4,>=3.0.2 in /usr/local/lib/python3.7/dist-packages (from requests->transformers) (3.0.4)\n",
            "Requirement already satisfied: zipp>=0.5 in /usr/local/lib/python3.7/dist-packages (from importlib-metadata->transformers) (3.5.0)\n",
            "Requirement already satisfied: pytz>=2017.2 in /usr/local/lib/python3.7/dist-packages (from pandas->datasets) (2018.9)\n",
            "Requirement already satisfied: python-dateutil>=2.7.3 in /usr/local/lib/python3.7/dist-packages (from pandas->datasets) (2.8.2)\n",
            "Requirement already satisfied: six>=1.5 in /usr/local/lib/python3.7/dist-packages (from python-dateutil>=2.7.3->pandas->datasets) (1.15.0)\n",
            "Requirement already satisfied: click in /usr/local/lib/python3.7/dist-packages (from sacremoses->transformers) (7.1.2)\n",
            "Requirement already satisfied: joblib in /usr/local/lib/python3.7/dist-packages (from sacremoses->transformers) (1.0.1)\n",
            "Installing collected packages: xxhash, tokenizers, sacremoses, pyyaml, huggingface-hub, fsspec, transformers, datasets\n",
            "  Attempting uninstall: pyyaml\n",
            "    Found existing installation: PyYAML 3.13\n",
            "    Uninstalling PyYAML-3.13:\n",
            "      Successfully uninstalled PyYAML-3.13\n",
            "Successfully installed datasets-1.11.0 fsspec-2021.7.0 huggingface-hub-0.0.12 pyyaml-5.4.1 sacremoses-0.0.45 tokenizers-0.10.3 transformers-4.9.2 xxhash-2.0.2\n"
          ],
          "name": "stdout"
        }
      ]
    },
    {
      "cell_type": "markdown",
      "metadata": {
        "id": "pg2NGc-LIOtu"
      },
      "source": [
        "## Count the number of available GPUs."
      ]
    },
    {
      "cell_type": "code",
      "metadata": {
        "id": "KEbUzL09RIt8"
      },
      "source": [
        "import tensorflow as tf\n",
        "\n",
        "physical_devices = tf.config.list_physical_devices('GPU')\n",
        "print(\"Num GPUs:\", len(physical_devices))"
      ],
      "execution_count": null,
      "outputs": []
    },
    {
      "cell_type": "markdown",
      "metadata": {
        "id": "R5gSmK4mIUYt"
      },
      "source": [
        "## Download the corpus."
      ]
    },
    {
      "cell_type": "code",
      "metadata": {
        "id": "xlGmRw19zxK-"
      },
      "source": [
        "import os\n",
        "\n",
        "if not os.path.exists(\"lovecraftcorpus\"):\n",
        "    !git clone https://github.com/vilmibm/lovecraftcorpus"
      ],
      "execution_count": null,
      "outputs": []
    },
    {
      "cell_type": "code",
      "metadata": {
        "id": "qYl0rii6z1Ig"
      },
      "source": [
        "!ls lovecraftcorpus"
      ],
      "execution_count": null,
      "outputs": []
    },
    {
      "cell_type": "markdown",
      "metadata": {
        "id": "j1K8uoClIYFg"
      },
      "source": [
        "## Create the tokenizer."
      ]
    },
    {
      "cell_type": "code",
      "metadata": {
        "id": "3G-KFq6MvW74"
      },
      "source": [
        "from tokenizers import ByteLevelBPETokenizer\n",
        "from tokenizers.pre_tokenizers import Whitespace\n",
        "from transformers import GPT2TokenizerFast\n",
        "import os\n",
        "import glob\n",
        "\n",
        "# Get the paths.\n",
        "# TODO: Is this enough data?\n",
        "paths = glob.glob(\"lovecraftcorpus/*.txt\")\n",
        "print(paths)\n",
        "\n",
        "# Create the tokenizer.\n",
        "tokenizer = ByteLevelBPETokenizer()\n",
        "tokenizer.pre_tokenizer = Whitespace()\n",
        "\n",
        "# Train the tokenizer.\n",
        "# TODO: Do we need the endoftext token?\n",
        "print(\"Training tokenizer...\")\n",
        "tokenizer.train(\n",
        "    files=paths, \n",
        "    vocab_size=10000, \n",
        "    min_frequency=2, \n",
        "    special_tokens=[\"<|endoftext|>\"])\n",
        "print(\"Done.\")\n",
        "\n",
        "# Get sequence length max of 1024\n",
        "tokenizer.enable_truncation(max_length=1024)\n",
        "\n",
        "# Save tokenizer.\n",
        "tokenizer_path = \"tokenizer\"\n",
        "if not os.path.exists(tokenizer_path):\n",
        "    os.mkdir(tokenizer_path)\n",
        "tokenizer.save_model(tokenizer_path)\n",
        "\n",
        "# Turn into pretrained tokenizer that can be used during training.\n",
        "tokenizer = GPT2TokenizerFast.from_pretrained(\n",
        "    tokenizer_path, \n",
        "    pad_token=\"<|endoftext|>\")\n",
        "tokenizer.model_max_length = 1024"
      ],
      "execution_count": null,
      "outputs": []
    },
    {
      "cell_type": "markdown",
      "metadata": {
        "id": "AxmLTuKuIvkr"
      },
      "source": [
        "## Tokenize some text."
      ]
    },
    {
      "cell_type": "code",
      "metadata": {
        "id": "cGfcZAVWxWRD"
      },
      "source": [
        "text = \"Today is a great day to be creative.\"\n",
        "indices = tokenizer.encode(text)\n",
        "len(text), len(indices), indices"
      ],
      "execution_count": null,
      "outputs": []
    },
    {
      "cell_type": "markdown",
      "metadata": {
        "id": "VcwS4Wb_JJ7j"
      },
      "source": [
        "## Prepare the datasets."
      ]
    },
    {
      "cell_type": "code",
      "metadata": {
        "id": "RVYtl-AaJFMQ"
      },
      "source": [
        "from datasets import load_dataset\n",
        "from transformers import DataCollatorForLanguageModeling\n",
        "\n",
        "# Split dataset into train and test.\n",
        "split_index = int(0.9 * len(paths))\n",
        "train_paths = paths[:split_index]\n",
        "test_paths = paths[split_index:]\n",
        "dataset = load_dataset(\"text\", data_files={\"train\": train_paths, \"test\": test_paths})\n",
        "\n",
        "# Inspect.\n",
        "print(\"Dataset:\", dataset)\n",
        "print(\"Sample:\", dataset[\"train\"][10])\n",
        "\n",
        "# Tokenize the dataset.\n",
        "dataset = dataset.map(lambda batch: tokenizer(batch[\"text\"], truncation=True, padding=True), batched=True)\n",
        "\n",
        "# Set pytorch format.\n",
        "dataset.set_format(\"torch\", columns=[\"input_ids\", \"attention_mask\"])\n",
        "\n",
        "# Inspect.\n",
        "print(\"Dataset:\", dataset)\n",
        "print(\"Sample:\", dataset[\"train\"][10])\n",
        "\n",
        "# Create a data collator.\n",
        "# TODO: Is this really necessary?\n",
        "data_collator = DataCollatorForLanguageModeling(\n",
        "    tokenizer=tokenizer, mlm=False,\n",
        ")"
      ],
      "execution_count": null,
      "outputs": []
    },
    {
      "cell_type": "markdown",
      "metadata": {
        "id": "PqFNeF1JJ-4L"
      },
      "source": [
        "## Create the model."
      ]
    },
    {
      "cell_type": "code",
      "metadata": {
        "id": "QyViGNLdP7K5"
      },
      "source": [
        "from transformers import GPT2Config, GPT2LMHeadModel, GPT2Tokenizer\n",
        "\n",
        "# creating the configurations from which the model can be made\n",
        "config = GPT2Config(\n",
        "    vocab_size=tokenizer.vocab_size,\n",
        "    bos_token_id=tokenizer.bos_token_id,\n",
        "    eos_token_id=tokenizer.eos_token_id,\n",
        "    n_head=8,\n",
        "    n_layer=6,\n",
        "    n_embd=512,\n",
        "    n_positions=1024\n",
        ")\n",
        "#config = GPT2Config(\n",
        "#    vocab_size=tokenizer.vocab_size,\n",
        "#    bos_token_id=tokenizer.bos_token_id,\n",
        "#    eos_token_id=tokenizer.eos_token_id,\n",
        "#    n_head=4,\n",
        "#    n_layer=4,\n",
        "#    n_embd=128,\n",
        "#    n_positions=512\n",
        "#)\n",
        "print(config)\n",
        "\n",
        "# creating the model\n",
        "model = GPT2LMHeadModel(config)"
      ],
      "execution_count": null,
      "outputs": []
    },
    {
      "cell_type": "markdown",
      "metadata": {
        "id": "-ehUr1BPKJFt"
      },
      "source": [
        "## Train the model."
      ]
    },
    {
      "cell_type": "code",
      "metadata": {
        "id": "E-BZr24iKIDt"
      },
      "source": [
        "from transformers import Trainer, TrainingArguments\n",
        "\n",
        "training_arguments = TrainingArguments(\n",
        "    output_dir=\"./output\",\n",
        "    overwrite_output_dir=True,\n",
        "    num_train_epochs=50,\n",
        "    per_device_train_batch_size=10,\n",
        "    eval_steps=500,\n",
        "    evaluation_strategy=\"steps\",\n",
        "    save_steps=500,\n",
        "    save_total_limit=20,\n",
        ")\n",
        "print(training_arguments)\n",
        "\n",
        "trainer = Trainer(\n",
        "    model=model,\n",
        "    args=training_arguments,\n",
        "    data_collator=data_collator,\n",
        "    train_dataset=dataset[\"train\"],\n",
        "    eval_dataset=dataset[\"test\"]\n",
        ")\n",
        "\n",
        "trainer.train()"
      ],
      "execution_count": null,
      "outputs": []
    },
    {
      "cell_type": "markdown",
      "metadata": {
        "id": "oCt_qVOpKOlC"
      },
      "source": [
        "## Generate some text."
      ]
    },
    {
      "cell_type": "code",
      "metadata": {
        "id": "SVDLPXaZSKic"
      },
      "source": [
        "text = \"A\"\n",
        "input_ids = tokenizer.encode(text, return_tensors='pt').cuda()# getting out output\n",
        "beam_outputs = model.generate(\n",
        "  input_ids,\n",
        "  max_length = 100,\n",
        "  #num_beams = 5,\n",
        "  temperature = 1.01,\n",
        "  #no_repeat_ngram_size=2,\n",
        "  #num_return_sequences=5\n",
        ")\n",
        "\n",
        "for beam_output in beam_outputs:\n",
        "    print(tokenizer.decode(beam_output))\n",
        "    print(\"\")"
      ],
      "execution_count": null,
      "outputs": []
    }
  ]
}